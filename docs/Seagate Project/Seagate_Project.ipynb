{
  "nbformat": 4,
  "nbformat_minor": 5,
  "metadata": {
    "kernelspec": {
      "display_name": "Python 3",
      "language": "python",
      "name": "python3"
    },
    "language_info": {
      "codemirror_mode": {
        "name": "ipython",
        "version": 3
      },
      "file_extension": ".py",
      "mimetype": "text/x-python",
      "name": "python",
      "nbconvert_exporter": "python",
      "pygments_lexer": "ipython3",
      "version": "3.8.6"
    },
    "colab": {
      "name": "Seagate Project.ipynb",
      "provenance": []
    }
  },
  "cells": [
    {
      "cell_type": "code",
      "metadata": {
        "id": "characteristic-missile"
      },
      "source": [
        "from pyspark.sql import SparkSession\n",
        "\n",
        "spark = SparkSession.builder.master('local[4]').appName('spark_ml').getOrCreate()"
      ],
      "id": "characteristic-missile",
      "execution_count": null,
      "outputs": []
    },
    {
      "cell_type": "code",
      "metadata": {
        "id": "premier-gauge"
      },
      "source": [
        "import pyspark.sql.types as types\n",
        "import pyspark.ml.feature as ft\n",
        "from pyspark.ml import Pipeline\n",
        "from pyspark.ml.linalg import Vectors\n",
        "from pyspark.mllib.regression import LabeledPoint\n",
        "from pyspark.mllib.util import MLUtils\n",
        "import numpy as np\n",
        "import pyspark.sql.functions as fn\n",
        "import pandas as pd\n",
        "from pyspark.sql import Row\n",
        "from pyspark import SparkContext as sc\n",
        "import matplotlib.pyplot as plt\n",
        "import pyspark.ml.classification as cl"
      ],
      "id": "premier-gauge",
      "execution_count": null,
      "outputs": []
    },
    {
      "cell_type": "code",
      "metadata": {
        "id": "outside-empire",
        "outputId": "20400c38-d504-4041-f208-236ce0283655"
      },
      "source": [
        "df = spark.read.csv('FINALseagate.csv', header=True, inferSchema = True)\n",
        "\n",
        "df.printSchema()"
      ],
      "id": "outside-empire",
      "execution_count": null,
      "outputs": [
        {
          "output_type": "stream",
          "text": [
            "root\n",
            " |-- DAF_LIFE_CYCLE_NUM: integer (nullable = true)\n",
            " |-- PARAM_002_MEDIAN: double (nullable = true)\n",
            " |-- PARAM_009_MEDIAN: double (nullable = true)\n",
            " |-- PARAM_010_MEDIAN: double (nullable = true)\n",
            " |-- PARAM_018_MEDIAN: double (nullable = true)\n",
            " |-- PARAM_021_MEDIAN: double (nullable = true)\n",
            " |-- PARAM_022_MEDIAN: double (nullable = true)\n",
            " |-- PARAM_025_MEDIAN: double (nullable = true)\n",
            " |-- PARAM_026_MEDIAN: double (nullable = true)\n",
            " |-- PARAM_027_MEDIAN: double (nullable = true)\n",
            " |-- PARAM_028_MEDIAN: integer (nullable = true)\n",
            " |-- PARAM_029_MEDIAN: integer (nullable = true)\n",
            " |-- PARAM_030_MEDIAN: integer (nullable = true)\n",
            " |-- PARAM_039_MEDIAN: integer (nullable = true)\n",
            " |-- PARAM_043_MEDIAN: double (nullable = true)\n",
            " |-- PARAM_054_MEDIAN: double (nullable = true)\n",
            " |-- PARAM_055_MEDIAN: double (nullable = true)\n",
            " |-- PARAM_059_MEDIAN: double (nullable = true)\n",
            " |-- PARAM_071_MEDIAN: integer (nullable = true)\n",
            " |-- PARAM_072_MEDIAN: integer (nullable = true)\n",
            " |-- PARAM_073_MEDIAN: integer (nullable = true)\n",
            " |-- PARAM_082_MEDIAN: integer (nullable = true)\n",
            " |-- PARAM_102_MEDIAN: integer (nullable = true)\n",
            " |-- PARAM_103_MEDIAN: integer (nullable = true)\n",
            " |-- PARAM_106_MEDIAN: double (nullable = true)\n",
            " |-- PARAM_112_MEDIAN: double (nullable = true)\n",
            " |-- PARAM_114_MEDIAN: double (nullable = true)\n",
            " |-- PARAM_116_MEDIAN: double (nullable = true)\n",
            " |-- PARAM_129_MEDIAN: double (nullable = true)\n",
            " |-- PARAM_130_MEDIAN: integer (nullable = true)\n",
            " |-- PARAM_144_MEDIAN: double (nullable = true)\n",
            " |-- PARAM_150_MEDIAN: double (nullable = true)\n",
            " |-- PARAM_160_MEDIAN: integer (nullable = true)\n",
            " |-- PARAM_168_MEDIAN: double (nullable = true)\n",
            " |-- PARAM_175_MEDIAN: double (nullable = true)\n",
            " |-- PARAM_192_MEDIAN: double (nullable = true)\n",
            " |-- PARAM_201_MEDIAN: double (nullable = true)\n",
            " |-- PARAM_202_MEDIAN: double (nullable = true)\n",
            " |-- FAD_FBP1: double (nullable = true)\n",
            " |-- FAD_FBP2: double (nullable = true)\n",
            " |-- FAD_MBA_PART_NUM: integer (nullable = true)\n",
            " |-- FAD_MEDIA_PART_NUM: integer (nullable = true)\n",
            " |-- TARGET: integer (nullable = true)\n",
            " |-- DAF_ORDER_CAT_NB: integer (nullable = true)\n",
            " |-- DAF_ORDER_CAT_NBBL: integer (nullable = true)\n",
            " |-- DAF_ORDER_CAT_NBQ: integer (nullable = true)\n",
            " |-- DAF_ORDER_CAT_NBQD: integer (nullable = true)\n",
            " |-- DAF_PRI_N: integer (nullable = true)\n",
            " |-- DAF_PRI_P: integer (nullable = true)\n",
            " |-- DAF_PRI_Y: integer (nullable = true)\n",
            " |-- PRDCT_PRODUCT_INTERFACE_SAS: integer (nullable = true)\n",
            " |-- PRDCT_PRODUCT_INTERFACE_SATA: integer (nullable = true)\n",
            " |-- FAD_BEARING_LOT_NUM_732535300: integer (nullable = true)\n",
            " |-- FAD_BEARING_LOT_NUM_A: integer (nullable = true)\n",
            " |-- FAD_BEARING_LOT_NUM_B: integer (nullable = true)\n",
            " |-- FAD_BEARING_LOT_NUM_E: integer (nullable = true)\n",
            " |-- FAD_BEARING_LOT_NUM_L: integer (nullable = true)\n",
            " |-- FAD_CLAMP_SCREW_ID_CSI120: integer (nullable = true)\n",
            " |-- FAD_CLAMP_SCREW_ID_CSI121: integer (nullable = true)\n",
            " |-- FAD_CLAMP_SCREW_ID_CSI181: integer (nullable = true)\n",
            " |-- FAD_CLAMP_SCREW_ID_CSI182: integer (nullable = true)\n",
            " |-- FAD_CLAMP_SCREW_ID_CSI243: integer (nullable = true)\n",
            " |-- FAD_CLAMP_SCREW_ID_CSI244: integer (nullable = true)\n",
            " |-- FSA_SUPPLIER_SUPPLIER_01: integer (nullable = true)\n",
            " |-- FSA_SUPPLIER_SUPPLIER_02: integer (nullable = true)\n",
            " |-- FAD_HGA_VENDOR_0: integer (nullable = true)\n",
            " |-- FAD_HGA_VENDOR_1: integer (nullable = true)\n",
            " |-- FAD_HGA_VENDOR_2: integer (nullable = true)\n",
            " |-- FAD_HGA_VENDOR_5: integer (nullable = true)\n",
            " |-- FAD_HGA_VENDOR_7: integer (nullable = true)\n",
            " |-- FAD_HGA_VENDOR_8: integer (nullable = true)\n",
            " |-- FAD_HGA_VENDOR_9: integer (nullable = true)\n",
            " |-- FAD_HGA_VENDOR_A: integer (nullable = true)\n",
            " |-- FAD_HGA_VENDOR_B: integer (nullable = true)\n",
            " |-- FAD_HGA_VENDOR_E: integer (nullable = true)\n",
            " |-- FAD_HGA_VENDOR_G: integer (nullable = true)\n",
            " |-- FAD_HGA_VENDOR_K: integer (nullable = true)\n",
            " |-- FAD_HGA_VENDOR_M: integer (nullable = true)\n",
            " |-- FAD_HGA_VENDOR_N: integer (nullable = true)\n",
            " |-- FAD_HGA_VENDOR_O: integer (nullable = true)\n",
            " |-- FAD_HGA_VENDOR_P: integer (nullable = true)\n",
            " |-- FAD_HGA_VENDOR_S: integer (nullable = true)\n",
            " |-- FAD_HGA_VENDOR_U: integer (nullable = true)\n",
            " |-- FAD_HGA_VENDOR_X: integer (nullable = true)\n",
            " |-- FAD_HSA_REV_A: integer (nullable = true)\n",
            " |-- FAD_HSA_REV_B: integer (nullable = true)\n",
            " |-- FAD_HSA_REV_C: integer (nullable = true)\n",
            " |-- FAD_HSA_REV_K: integer (nullable = true)\n",
            " |-- FAD_HSA_REV_V: integer (nullable = true)\n",
            " |-- FAD_HSA_VENDOR_3: integer (nullable = true)\n",
            " |-- FAD_HSA_VENDOR_C: integer (nullable = true)\n",
            " |-- FAD_HSA_VENDOR_F: integer (nullable = true)\n",
            " |-- FAD_HSA_VENDOR_G: integer (nullable = true)\n",
            " |-- FAD_LINE_NUM_13193: integer (nullable = true)\n",
            " |-- FAD_LINE_NUM_15194: integer (nullable = true)\n",
            " |-- FAD_LINE_NUM_16195: integer (nullable = true)\n",
            " |-- FAD_LINE_NUM_16296: integer (nullable = true)\n",
            " |-- FAD_LINE_NUM_13197: integer (nullable = true)\n",
            " |-- FAD_LINE_NUM_15198: integer (nullable = true)\n",
            " |-- FAD_LINE_NUM_16199: integer (nullable = true)\n",
            " |-- FAD_LINE_NUM_162100: integer (nullable = true)\n",
            " |-- FAD_LINE_NUM_NONE: integer (nullable = true)\n",
            " |-- FAD_MAGNET_CODE_BOT_3: integer (nullable = true)\n",
            " |-- FAD_MAGNET_CODE_BOT_5: integer (nullable = true)\n",
            " |-- FAD_MAGNET_CODE_BOT_M: integer (nullable = true)\n",
            " |-- FAD_MAGNET_CODE_BOT_Q: integer (nullable = true)\n",
            " |-- FAD_MAGNET_CODE_BOT_R: integer (nullable = true)\n",
            " |-- FAD_MAGNET_CODE_BOT_Z: integer (nullable = true)\n",
            " |-- FAD_MAGNET_CODE_TOP_3: integer (nullable = true)\n",
            " |-- FAD_MAGNET_CODE_TOP_5: integer (nullable = true)\n",
            " |-- FAD_MAGNET_CODE_TOP_M: integer (nullable = true)\n",
            " |-- FAD_MAGNET_CODE_TOP_Q: integer (nullable = true)\n",
            " |-- FAD_MAGNET_CODE_TOP_R: integer (nullable = true)\n",
            " |-- FAD_MAGNET_CODE_TOP_Z: integer (nullable = true)\n",
            " |-- FAD_PCBA_CODE_C: integer (nullable = true)\n",
            " |-- FAD_PCBA_CODE_D: integer (nullable = true)\n",
            " |-- FAD_PCBA_CODE_E: integer (nullable = true)\n",
            " |-- FAD_PCBA_CODE_G: integer (nullable = true)\n",
            " |-- FAD_PCBA_REV_A: integer (nullable = true)\n",
            " |-- FAD_PCBA_REV_B: integer (nullable = true)\n",
            " |-- FAD_PCBA_REV_C: integer (nullable = true)\n",
            " |-- FAD_PCBA_REV_D: integer (nullable = true)\n",
            " |-- FAD_PCBA_REV_E: integer (nullable = true)\n",
            " |-- FAD_PCBA_REV_F: integer (nullable = true)\n",
            " |-- FAD_PRI_N: integer (nullable = true)\n",
            " |-- FAD_PRI_P: integer (nullable = true)\n",
            " |-- FAD_PRI_Y: integer (nullable = true)\n",
            "\n"
          ],
          "name": "stdout"
        }
      ]
    },
    {
      "cell_type": "code",
      "metadata": {
        "scrolled": true,
        "id": "respiratory-tomorrow"
      },
      "source": [
        "cols = df.drop('TARGET','FAD_MBA_PART_NUM','FAD_MEDIA_PART_NUM').columns\n",
        "\n",
        "#df_e=df_e.drop('features')\n",
        "df_v = ft.VectorAssembler(inputCols=[col for col in cols], outputCol='features').transform(df) "
      ],
      "id": "respiratory-tomorrow",
      "execution_count": null,
      "outputs": []
    },
    {
      "cell_type": "code",
      "metadata": {
        "id": "ranking-viewer"
      },
      "source": [
        "#df_e=df_e.drop('scaled_features')\n",
        "scaler = ft.StandardScaler(inputCol=\"features\", outputCol=\"scaled_features\", withStd=True, withMean=True)\n",
        "df_ss = scaler.fit(df_v).transform(df_v)"
      ],
      "id": "ranking-viewer",
      "execution_count": null,
      "outputs": []
    },
    {
      "cell_type": "markdown",
      "metadata": {
        "id": "YSrk2krUJI8d"
      },
      "source": [
        "## K Means"
      ],
      "id": "YSrk2krUJI8d"
    },
    {
      "cell_type": "code",
      "metadata": {
        "id": "measured-thunder"
      },
      "source": [
        "from pyspark.ml.clustering import KMeans\n",
        "from pyspark.ml.evaluation import ClusteringEvaluator\n",
        "silhouette_score2=[]\n",
        "evaluator = ClusteringEvaluator(predictionCol='prediction', featuresCol='features', metricName='silhouette', distanceMeasure='squaredEuclidean')\n",
        "for i in range(2,20):\n",
        "    \n",
        "    KMeans_algo=KMeans(featuresCol='features', k=i)\n",
        "    \n",
        "    KMeans_fit=KMeans_algo.fit(df_v)\n",
        "    \n",
        "    output=KMeans_fit.transform(df_v)\n",
        "    \n",
        "    \n",
        "    \n",
        "    score=evaluator.evaluate(output)\n",
        "    \n",
        "    silhouette_score2.append(score)\n",
        "    \n",
        "    print(\"Silhouette Score:\",score)"
      ],
      "id": "measured-thunder",
      "execution_count": null,
      "outputs": []
    },
    {
      "cell_type": "code",
      "metadata": {
        "id": "proof-hands"
      },
      "source": [
        "fig, ax = plt.subplots(1,1, figsize =(8,6))\n",
        "ax.plot(range(2,20),silhouette_score2)\n",
        "ax.set_xlabel('k')\n",
        "ax.set_ylabel('cost')"
      ],
      "id": "proof-hands",
      "execution_count": null,
      "outputs": []
    },
    {
      "cell_type": "code",
      "metadata": {
        "id": "egyptian-gilbert"
      },
      "source": [
        "df_ss = df_ss.withColumn(\"idx\", fn.monotonically_increasing_id())"
      ],
      "id": "egyptian-gilbert",
      "execution_count": null,
      "outputs": []
    },
    {
      "cell_type": "code",
      "metadata": {
        "scrolled": true,
        "id": "hungry-humanitarian",
        "outputId": "ade60d28-6d4f-4da6-fb3a-745a198afcac"
      },
      "source": [
        "from pyspark.ml.clustering import KMeans\n",
        "from pyspark.ml.evaluation import ClusteringEvaluator\n",
        "evaluator = ClusteringEvaluator(predictionCol='prediction', featuresCol='scaled_features', metricName='silhouette', distanceMeasure='squaredEuclidean')\n",
        "\n",
        "k = 2\n",
        "kmeans = KMeans().setK(k).setSeed(1).setFeaturesCol(\"scaled_features\")\n",
        "model = kmeans.fit(df_ss)\n",
        "centers = model.clusterCenters()\n",
        "\n",
        "print(\"Cluster Centers: \")\n",
        "for center in centers:\n",
        "    print(center)"
      ],
      "id": "hungry-humanitarian",
      "execution_count": null,
      "outputs": [
        {
          "output_type": "stream",
          "text": [
            "Cluster Centers: \n",
            "[-1.10568157e-02  1.34843725e-02 -1.04165171e-02 -1.07746528e-02\n",
            " -1.82602199e-02 -5.35942898e-03 -1.59187558e-02 -1.92205419e-03\n",
            " -3.21163442e-03 -1.70558380e-02 -8.81915530e-03 -6.46422412e-02\n",
            "  2.19091126e-02 -6.63283877e-02  3.55648284e-03 -1.23584312e-02\n",
            "  1.49290632e-03 -7.66098439e-03  6.68002717e-04 -1.11116874e-02\n",
            "  7.54137867e-04  1.98849887e-02  1.59907224e-02 -1.09136177e-02\n",
            " -9.60715084e-03 -6.06493694e-02 -4.61885312e-02 -4.44842920e-02\n",
            " -3.98679304e-03 -1.37413704e-02  9.15865457e-03  7.60859348e-03\n",
            " -3.74162031e-02 -2.39044254e-02  8.40289097e-03 -4.16010105e-02\n",
            "  3.70695648e-02  1.10310233e-02  2.19313502e-02  1.77222300e-02\n",
            "  5.36477363e-02 -5.45637179e-02  7.87159762e-03  2.90631725e-04\n",
            " -4.19009058e-01 -4.59656757e-03  4.19077903e-01 -7.54482487e-02\n",
            "  7.54482487e-02  2.40856690e-03  3.60244610e-03 -7.50485651e-02\n",
            "  7.48556008e-02 -1.17053363e-03  1.70113831e-02  1.33078735e-02\n",
            " -7.71346423e-02  1.59010531e-01 -9.46546529e-02 -7.80095966e-02\n",
            "  8.50552162e-02 -8.50552162e-02  3.74939351e-02  2.50487766e-01\n",
            " -3.36164382e-01 -1.31308431e-02  3.28869333e-03  1.05387308e-02\n",
            "  2.20105433e-03  1.11732540e-02  7.56609515e-03 -8.09948540e-04\n",
            " -2.11786570e-03 -4.38592868e-02  2.78227936e-03  5.41773431e-03\n",
            "  3.27517648e-03  4.11810283e-03 -1.98147911e-03  2.83417694e-03\n",
            " -5.16867116e-03 -1.14333043e-01 -5.69603035e-02 -6.87829857e-02\n",
            " -6.17918061e-02  1.34407382e-01 -1.41018271e-01  3.70226779e-01\n",
            " -2.44944142e-01 -2.15179912e-01  8.12204932e-03  6.97542646e-03\n",
            " -2.79953174e-02  2.22467261e-02  2.48139751e-02  3.29965674e-02\n",
            " -1.33523132e-01  9.20129789e-02 -6.66564860e-03 -5.24975561e-03\n",
            " -1.60558163e-02  1.52833106e-01 -7.30094880e-02 -6.69709784e-03\n",
            " -1.31171924e-01  3.06982277e-03  8.46501453e-03  1.65428156e-01\n",
            " -5.32459648e-02 -6.64559195e-03 -1.69188955e-01 -8.65720313e-02\n",
            " -2.08733285e-02  8.62520213e-02 -3.52431367e-05  8.95333791e-02\n",
            " -2.12298653e-02 -8.00797023e-02 -8.10280748e-03 -3.25379090e-04\n",
            " -2.58043674e-02 -5.92491508e-01 -6.10100977e-03  5.92554985e-01]\n",
            "[ 3.04314511e-02 -3.71127668e-02  2.86691700e-02  2.96548598e-02\n",
            "  5.02572353e-02  1.47506484e-02  4.38128707e-02  5.29003102e-03\n",
            "  8.83931670e-03  4.69424392e-02  2.42727834e-02  1.77913538e-01\n",
            " -6.03000091e-02  1.82554285e-01 -9.78843606e-03  3.40138612e-02\n",
            " -4.10889597e-03  2.10851730e-02 -1.83853042e-03  3.05824734e-02\n",
            " -2.07559845e-03 -5.47290537e-02 -4.40109431e-02  3.00373301e-02\n",
            "  2.64415676e-02  1.66924037e-01  1.27123764e-01  1.22433220e-01\n",
            "  1.09727701e-02  3.78200967e-02 -2.52071804e-02 -2.09409785e-02\n",
            "  1.02979862e-01  6.57916683e-02 -2.31271075e-02  1.14497623e-01\n",
            " -1.02025816e-01 -3.03604630e-02 -6.03612131e-02 -4.87765364e-02\n",
            " -1.47653584e-01  1.50174621e-01 -2.16648395e-02 -7.99899840e-04\n",
            "  1.15323019e+00  1.26510403e-02 -1.15341967e+00  2.07654694e-01\n",
            " -2.07654694e-01 -6.62905013e-03 -9.91493980e-03  2.06554653e-01\n",
            " -2.06023562e-01  3.22163613e-03 -4.68200870e-02 -3.66269920e-02\n",
            "  2.12296122e-01 -4.37641479e-01  2.60516094e-01  2.14704241e-01\n",
            " -2.34095757e-01  2.34095757e-01 -1.03193802e-01 -6.89412431e-01\n",
            "  9.25218454e-01  3.61397547e-02 -9.05140436e-03 -2.90055364e-02\n",
            " -6.05791748e-03 -3.07519219e-02 -2.08240112e-02  2.22920504e-03\n",
            "  5.82895908e-03  1.20713031e-01 -7.65761141e-03 -1.49111210e-02\n",
            " -9.01420222e-03 -1.13341714e-02  5.45358504e-03 -7.80044807e-03\n",
            "  1.42256295e-02  3.14676529e-01  1.56770695e-01  1.89310025e-01\n",
            "  1.70068343e-01 -3.69926729e-01  3.88121745e-01 -1.01896770e+00\n",
            "  6.74154825e-01  5.92235335e-01 -2.23541527e-02 -1.91983257e-02\n",
            "  7.70509479e-02 -6.12292159e-02 -6.82950035e-02 -9.08157874e-02\n",
            "  3.67493025e-01 -2.53245467e-01  1.83457303e-02  1.44487966e-02\n",
            "  4.41900997e-02 -4.20639478e-01  2.00942542e-01  1.84322874e-02\n",
            "  3.61021843e-01 -8.44901134e-03 -2.32980889e-02 -4.55304579e-01\n",
            "  1.46547796e-01  1.82905288e-02  4.65655350e-01  2.38270457e-01\n",
            "  5.74492413e-02 -2.37389700e-01  9.69989748e-05 -2.46420915e-01\n",
            "  5.84305304e-02  2.20401751e-01  2.23011937e-02  8.95534312e-04\n",
            "  7.10208402e-02  1.63070244e+00  1.67916862e-02 -1.63087714e+00]\n"
          ],
          "name": "stdout"
        }
      ]
    },
    {
      "cell_type": "code",
      "metadata": {
        "scrolled": true,
        "id": "suspended-photograph",
        "outputId": "2c970f1e-23ad-428b-a8b3-92ec63bd1f78"
      },
      "source": [
        "predictions = model.transform(df_ss)\n",
        "silhouette = evaluator.evaluate(predictions)\n",
        "print(\"Silhouette with squared euclidean distance = \" + str(silhouette))\n",
        "\n",
        "print(\"Cluster Centers: \")\n",
        "ctr=[]\n",
        "centers = model.clusterCenters()\n",
        "for center in centers:\n",
        "    ctr.append(center)"
      ],
      "id": "suspended-photograph",
      "execution_count": null,
      "outputs": [
        {
          "output_type": "stream",
          "text": [
            "Silhouette with squared euclidean distance = 0.17330592905654787\n",
            "Cluster Centers: \n",
            "[-1.10568157e-02  1.34843725e-02 -1.04165171e-02 -1.07746528e-02\n",
            " -1.82602199e-02 -5.35942898e-03 -1.59187558e-02 -1.92205419e-03\n",
            " -3.21163442e-03 -1.70558380e-02 -8.81915530e-03 -6.46422412e-02\n",
            "  2.19091126e-02 -6.63283877e-02  3.55648284e-03 -1.23584312e-02\n",
            "  1.49290632e-03 -7.66098439e-03  6.68002717e-04 -1.11116874e-02\n",
            "  7.54137867e-04  1.98849887e-02  1.59907224e-02 -1.09136177e-02\n",
            " -9.60715084e-03 -6.06493694e-02 -4.61885312e-02 -4.44842920e-02\n",
            " -3.98679304e-03 -1.37413704e-02  9.15865457e-03  7.60859348e-03\n",
            " -3.74162031e-02 -2.39044254e-02  8.40289097e-03 -4.16010105e-02\n",
            "  3.70695648e-02  1.10310233e-02  2.19313502e-02  1.77222300e-02\n",
            "  5.36477363e-02 -5.45637179e-02  7.87159762e-03  2.90631725e-04\n",
            " -4.19009058e-01 -4.59656757e-03  4.19077903e-01 -7.54482487e-02\n",
            "  7.54482487e-02  2.40856690e-03  3.60244610e-03 -7.50485651e-02\n",
            "  7.48556008e-02 -1.17053363e-03  1.70113831e-02  1.33078735e-02\n",
            " -7.71346423e-02  1.59010531e-01 -9.46546529e-02 -7.80095966e-02\n",
            "  8.50552162e-02 -8.50552162e-02  3.74939351e-02  2.50487766e-01\n",
            " -3.36164382e-01 -1.31308431e-02  3.28869333e-03  1.05387308e-02\n",
            "  2.20105433e-03  1.11732540e-02  7.56609515e-03 -8.09948540e-04\n",
            " -2.11786570e-03 -4.38592868e-02  2.78227936e-03  5.41773431e-03\n",
            "  3.27517648e-03  4.11810283e-03 -1.98147911e-03  2.83417694e-03\n",
            " -5.16867116e-03 -1.14333043e-01 -5.69603035e-02 -6.87829857e-02\n",
            " -6.17918061e-02  1.34407382e-01 -1.41018271e-01  3.70226779e-01\n",
            " -2.44944142e-01 -2.15179912e-01  8.12204932e-03  6.97542646e-03\n",
            " -2.79953174e-02  2.22467261e-02  2.48139751e-02  3.29965674e-02\n",
            " -1.33523132e-01  9.20129789e-02 -6.66564860e-03 -5.24975561e-03\n",
            " -1.60558163e-02  1.52833106e-01 -7.30094880e-02 -6.69709784e-03\n",
            " -1.31171924e-01  3.06982277e-03  8.46501453e-03  1.65428156e-01\n",
            " -5.32459648e-02 -6.64559195e-03 -1.69188955e-01 -8.65720313e-02\n",
            " -2.08733285e-02  8.62520213e-02 -3.52431367e-05  8.95333791e-02\n",
            " -2.12298653e-02 -8.00797023e-02 -8.10280748e-03 -3.25379090e-04\n",
            " -2.58043674e-02 -5.92491508e-01 -6.10100977e-03  5.92554985e-01]\n",
            "[ 3.04314511e-02 -3.71127668e-02  2.86691700e-02  2.96548598e-02\n",
            "  5.02572353e-02  1.47506484e-02  4.38128707e-02  5.29003102e-03\n",
            "  8.83931670e-03  4.69424392e-02  2.42727834e-02  1.77913538e-01\n",
            " -6.03000091e-02  1.82554285e-01 -9.78843606e-03  3.40138612e-02\n",
            " -4.10889597e-03  2.10851730e-02 -1.83853042e-03  3.05824734e-02\n",
            " -2.07559845e-03 -5.47290537e-02 -4.40109431e-02  3.00373301e-02\n",
            "  2.64415676e-02  1.66924037e-01  1.27123764e-01  1.22433220e-01\n",
            "  1.09727701e-02  3.78200967e-02 -2.52071804e-02 -2.09409785e-02\n",
            "  1.02979862e-01  6.57916683e-02 -2.31271075e-02  1.14497623e-01\n",
            " -1.02025816e-01 -3.03604630e-02 -6.03612131e-02 -4.87765364e-02\n",
            " -1.47653584e-01  1.50174621e-01 -2.16648395e-02 -7.99899840e-04\n",
            "  1.15323019e+00  1.26510403e-02 -1.15341967e+00  2.07654694e-01\n",
            " -2.07654694e-01 -6.62905013e-03 -9.91493980e-03  2.06554653e-01\n",
            " -2.06023562e-01  3.22163613e-03 -4.68200870e-02 -3.66269920e-02\n",
            "  2.12296122e-01 -4.37641479e-01  2.60516094e-01  2.14704241e-01\n",
            " -2.34095757e-01  2.34095757e-01 -1.03193802e-01 -6.89412431e-01\n",
            "  9.25218454e-01  3.61397547e-02 -9.05140436e-03 -2.90055364e-02\n",
            " -6.05791748e-03 -3.07519219e-02 -2.08240112e-02  2.22920504e-03\n",
            "  5.82895908e-03  1.20713031e-01 -7.65761141e-03 -1.49111210e-02\n",
            " -9.01420222e-03 -1.13341714e-02  5.45358504e-03 -7.80044807e-03\n",
            "  1.42256295e-02  3.14676529e-01  1.56770695e-01  1.89310025e-01\n",
            "  1.70068343e-01 -3.69926729e-01  3.88121745e-01 -1.01896770e+00\n",
            "  6.74154825e-01  5.92235335e-01 -2.23541527e-02 -1.91983257e-02\n",
            "  7.70509479e-02 -6.12292159e-02 -6.82950035e-02 -9.08157874e-02\n",
            "  3.67493025e-01 -2.53245467e-01  1.83457303e-02  1.44487966e-02\n",
            "  4.41900997e-02 -4.20639478e-01  2.00942542e-01  1.84322874e-02\n",
            "  3.61021843e-01 -8.44901134e-03 -2.32980889e-02 -4.55304579e-01\n",
            "  1.46547796e-01  1.82905288e-02  4.65655350e-01  2.38270457e-01\n",
            "  5.74492413e-02 -2.37389700e-01  9.69989748e-05 -2.46420915e-01\n",
            "  5.84305304e-02  2.20401751e-01  2.23011937e-02  8.95534312e-04\n",
            "  7.10208402e-02  1.63070244e+00  1.67916862e-02 -1.63087714e+00]\n"
          ],
          "name": "stdout"
        }
      ]
    },
    {
      "cell_type": "markdown",
      "metadata": {
        "id": "concrete-creator"
      },
      "source": [
        "## Logistic"
      ],
      "id": "concrete-creator"
    },
    {
      "cell_type": "code",
      "metadata": {
        "id": "distant-finance"
      },
      "source": [
        "trainv, testv = df_v.randomSplit([0.7, 0.3], seed = 1)\n",
        "trains, tests = df_ss.randomSplit([0.7, 0.3], seed = 1)"
      ],
      "id": "distant-finance",
      "execution_count": null,
      "outputs": []
    },
    {
      "cell_type": "code",
      "metadata": {
        "id": "forty-hunger"
      },
      "source": [
        "logistic = cl.LogisticRegression(maxIter=10,featuresCol = 'features',labelCol='TARGET')\n",
        "modelv = logistic.fit(trainv)\n",
        "test_modelv = modelv.transform(testv)"
      ],
      "id": "forty-hunger",
      "execution_count": null,
      "outputs": []
    },
    {
      "cell_type": "code",
      "metadata": {
        "id": "intense-participant",
        "outputId": "9bebfcb8-2ff2-405c-f946-874e9da4cf50"
      },
      "source": [
        "trainingSummaryv = modelv.summary\n",
        "roc = trainingSummaryv.roc.toPandas()\n",
        "plt.plot(roc['FPR'],roc['TPR'])\n",
        "plt.ylabel('False Positive Rate')\n",
        "plt.xlabel('True Positive Rate')\n",
        "plt.title('ROC Curve')\n",
        "plt.show()\n",
        "print('Training set areaUnderROC: ' + str(trainingSummaryv.areaUnderROC))"
      ],
      "id": "intense-participant",
      "execution_count": null,
      "outputs": [
        {
          "output_type": "display_data",
          "data": {
            "image/png": "[encoded data removed]",
            "text/plain": [
              "<Figure size 432x288 with 1 Axes>"
            ]
          },
          "metadata": {
            "tags": [],
            "needs_background": "light"
          }
        },
        {
          "output_type": "stream",
          "text": [
            "Training set areaUnderROC: 0.6726048634260444\n"
          ],
          "name": "stdout"
        }
      ]
    },
    {
      "cell_type": "code",
      "metadata": {
        "id": "blank-samba",
        "outputId": "2774cc5d-d392-48d0-9837-c28dd2ecf823"
      },
      "source": [
        "import pyspark.ml.evaluation as ev\n",
        "\n",
        "evaluatorv = ev.BinaryClassificationEvaluator(rawPredictionCol='probability', labelCol='TARGET')\n",
        "\n",
        "print(evaluatorv.evaluate(test_modelv, {evaluatorv.metricName: 'areaUnderROC'}))"
      ],
      "id": "blank-samba",
      "execution_count": null,
      "outputs": [
        {
          "output_type": "stream",
          "text": [
            "0.6834114505548127\n"
          ],
          "name": "stdout"
        }
      ]
    },
    {
      "cell_type": "code",
      "metadata": {
        "id": "egyptian-spirit"
      },
      "source": [
        "logistic = cl.LogisticRegression(maxIter=10,featuresCol = 'scaled_features',labelCol='TARGET')\n",
        "models = logistic.fit(trains)\n",
        "test_models = models.transform(tests)"
      ],
      "id": "egyptian-spirit",
      "execution_count": null,
      "outputs": []
    },
    {
      "cell_type": "code",
      "metadata": {
        "id": "vulnerable-flood",
        "outputId": "81025901-9560-4c38-f3d3-90716c228b77"
      },
      "source": [
        "trainingSummarys = models.summary\n",
        "roc = trainingSummarys.roc.toPandas()\n",
        "plt.plot(roc['FPR'],roc['TPR'])\n",
        "plt.ylabel('False Positive Rate')\n",
        "plt.xlabel('True Positive Rate')\n",
        "plt.title('ROC Curve')\n",
        "plt.show()\n",
        "print('Training set areaUnderROC: ' + str(trainingSummarys.areaUnderROC))"
      ],
      "id": "vulnerable-flood",
      "execution_count": null,
      "outputs": [
        {
          "output_type": "display_data",
          "data": {
            "image/png": "[encoded data removed]",
            "text/plain": [
              "<Figure size 432x288 with 1 Axes>"
            ]
          },
          "metadata": {
            "tags": [],
            "needs_background": "light"
          }
        },
        {
          "output_type": "stream",
          "text": [
            "Training set areaUnderROC: 0.7183816435842862\n"
          ],
          "name": "stdout"
        }
      ]
    },
    {
      "cell_type": "code",
      "metadata": {
        "scrolled": true,
        "id": "executive-developer",
        "outputId": "90e19dd3-dd4f-4cb5-a510-1271205e1701"
      },
      "source": [
        "evaluators = ev.BinaryClassificationEvaluator(rawPredictionCol='probability', labelCol='TARGET')\n",
        "\n",
        "print(evaluators.evaluate(test_models, {evaluators.metricName: 'areaUnderROC'}))"
      ],
      "id": "executive-developer",
      "execution_count": null,
      "outputs": [
        {
          "output_type": "stream",
          "text": [
            "0.7178009459396704\n"
          ],
          "name": "stdout"
        }
      ]
    },
    {
      "cell_type": "code",
      "metadata": {
        "id": "coupled-musician",
        "outputId": "7a12f84d-4bc3-492a-e346-3fdc9a82f5a4"
      },
      "source": [
        "from pyspark.mllib.evaluation import MulticlassMetrics\n",
        "\n",
        "preds_and_labels = test_models.select(['prediction','TARGET']).withColumn('label', fn.col('TARGET').cast(types.FloatType())).orderBy('prediction')\n",
        "\n",
        "preds_and_labels = preds_and_labels.select(['prediction','label'])\n",
        "\n",
        "metrics = MulticlassMetrics(preds_and_labels.rdd.map(tuple))\n",
        "\n",
        "print(metrics.confusionMatrix().toArray())"
      ],
      "id": "coupled-musician",
      "execution_count": null,
      "outputs": [
        {
          "output_type": "stream",
          "text": [
            "[[8.6422e+04 2.0000e+00]\n",
            " [2.3280e+03 0.0000e+00]]\n"
          ],
          "name": "stdout"
        }
      ]
    },
    {
      "cell_type": "markdown",
      "metadata": {
        "id": "executive-wrong"
      },
      "source": [
        "## Random Forest"
      ],
      "id": "executive-wrong"
    },
    {
      "cell_type": "code",
      "metadata": {
        "id": "adequate-country"
      },
      "source": [
        "df_v = df_v.withColumn('TARGET', fn.col('TARGET').cast(types.DoubleType()))"
      ],
      "id": "adequate-country",
      "execution_count": null,
      "outputs": []
    },
    {
      "cell_type": "code",
      "metadata": {
        "id": "confirmed-marsh"
      },
      "source": [
        "df_ss = df_ss.withColumn('TARGET', fn.col('TARGET').cast(types.DoubleType()))"
      ],
      "id": "confirmed-marsh",
      "execution_count": null,
      "outputs": []
    },
    {
      "cell_type": "code",
      "metadata": {
        "id": "starting-collectible"
      },
      "source": [
        "trainv, testv = df_v.randomSplit([0.7, 0.3], seed = 1)\n",
        "trains, tests = df_ss.randomSplit([0.7, 0.3], seed = 1)"
      ],
      "id": "starting-collectible",
      "execution_count": null,
      "outputs": []
    },
    {
      "cell_type": "code",
      "metadata": {
        "id": "tired-eclipse"
      },
      "source": [
        "classifier = cl.RandomForestClassifier(numTrees=5, maxDepth=5, featuresCol = 'features', labelCol='TARGET')\n",
        "modelv = classifier.fit(trainv)\n",
        "testv = modelv.transform(testv)"
      ],
      "id": "tired-eclipse",
      "execution_count": null,
      "outputs": []
    },
    {
      "cell_type": "code",
      "metadata": {
        "id": "threatened-reading",
        "outputId": "5062dbad-1d4e-466b-ec37-95e970696608"
      },
      "source": [
        "print(evaluatorv.evaluate(testv, {evaluatorv.metricName: \"areaUnderROC\"}))"
      ],
      "id": "threatened-reading",
      "execution_count": null,
      "outputs": [
        {
          "output_type": "stream",
          "text": [
            "0.6492405962110245\n"
          ],
          "name": "stdout"
        }
      ]
    },
    {
      "cell_type": "code",
      "metadata": {
        "id": "emotional-virgin"
      },
      "source": [
        "classifier = cl.RandomForestClassifier(numTrees=5, maxDepth=5, featuresCol = 'scaled_features', labelCol='TARGET')\n",
        "models = classifier.fit(trains)\n",
        "tests = models.transform(tests)"
      ],
      "id": "emotional-virgin",
      "execution_count": null,
      "outputs": []
    },
    {
      "cell_type": "code",
      "metadata": {
        "id": "affiliated-welsh",
        "outputId": "acfb5955-114e-4a24-ad06-fddc3e604cd3"
      },
      "source": [
        "print(evaluators.evaluate(tests, {evaluators.metricName: \"areaUnderROC\"}))"
      ],
      "id": "affiliated-welsh",
      "execution_count": null,
      "outputs": [
        {
          "output_type": "stream",
          "text": [
            "0.674828799981741\n"
          ],
          "name": "stdout"
        }
      ]
    },
    {
      "cell_type": "code",
      "metadata": {
        "id": "earned-wallace",
        "outputId": "3be0243e-b24a-4690-f4a4-39537b74ba96"
      },
      "source": [
        "from pyspark.mllib.evaluation import MulticlassMetrics\n",
        "\n",
        "preds_and_labels = tests.select(['prediction','TARGET']).withColumn('label', fn.col('TARGET').cast(types.FloatType())).orderBy('prediction')\n",
        "\n",
        "preds_and_labels = preds_and_labels.select(['prediction','label'])\n",
        "\n",
        "metrics = MulticlassMetrics(preds_and_labels.rdd.map(tuple))\n",
        "\n",
        "print(metrics.confusionMatrix().toArray())"
      ],
      "id": "earned-wallace",
      "execution_count": null,
      "outputs": [
        {
          "output_type": "stream",
          "text": [
            "[[86424.     0.]\n",
            " [ 2328.     0.]]\n"
          ],
          "name": "stdout"
        }
      ]
    },
    {
      "cell_type": "markdown",
      "metadata": {
        "id": "offensive-private"
      },
      "source": [
        "## GBT"
      ],
      "id": "offensive-private"
    },
    {
      "cell_type": "code",
      "metadata": {
        "id": "based-worth"
      },
      "source": [
        "trainv, testv = df_v.randomSplit([0.7, 0.3], seed = 1)\n",
        "trains, tests = df_ss.randomSplit([0.7, 0.3], seed = 1)"
      ],
      "id": "based-worth",
      "execution_count": null,
      "outputs": []
    },
    {
      "cell_type": "code",
      "metadata": {
        "scrolled": false,
        "id": "straight-raleigh"
      },
      "source": [
        "gbtv = cl.GBTClassifier(maxIter=10, labelCol='TARGET',featuresCol = 'features')\n",
        "gbtModelv = gbtv.fit(trainv)\n",
        "predictionsv = gbtModelv.transform(testv)"
      ],
      "id": "straight-raleigh",
      "execution_count": null,
      "outputs": []
    },
    {
      "cell_type": "code",
      "metadata": {
        "id": "solar-physics"
      },
      "source": [
        "import pyspark.ml.evaluation as ev\n",
        "evaluatorv = ev.BinaryClassificationEvaluator(rawPredictionCol='probability', labelCol='TARGET')\n",
        "evaluators = ev.BinaryClassificationEvaluator(rawPredictionCol='probability', labelCol='TARGET')"
      ],
      "id": "solar-physics",
      "execution_count": null,
      "outputs": []
    },
    {
      "cell_type": "code",
      "metadata": {
        "id": "recognized-fraud",
        "outputId": "fcb72a79-9d66-4a06-feeb-15054357767e"
      },
      "source": [
        "print(evaluatorv.evaluate(predictionsv, {evaluatorv.metricName: \"areaUnderROC\"}))"
      ],
      "id": "recognized-fraud",
      "execution_count": null,
      "outputs": [
        {
          "output_type": "stream",
          "text": [
            "0.7490278588930847\n"
          ],
          "name": "stdout"
        }
      ]
    },
    {
      "cell_type": "code",
      "metadata": {
        "id": "hispanic-expense",
        "outputId": "414da167-4b0d-4221-ddeb-5bc525114700"
      },
      "source": [
        "from pyspark.ml.tuning import ParamGridBuilder, CrossValidator\n",
        "paramGridv = (ParamGridBuilder()\n",
        "             .addGrid(gbtv.maxDepth, [2, 4, 6])\n",
        "             .addGrid(gbtv.maxBins, [20, 60])\n",
        "             .addGrid(gbtv.maxIter, [10, 20])\n",
        "             .build())\n",
        "cvv = CrossValidator(estimator=gbtv, estimatorParamMaps=paramGridv, evaluator=evaluatorv, numFolds=5)\n",
        "# Run cross validations.  This can take about 6 minutes since it is training over 20 trees!\n",
        "cvModelv = cvv.fit(trainv)\n",
        "predictionsv = cvModelv.transform(testv)\n",
        "evaluatorv.evaluate(predictionsv)"
      ],
      "id": "hispanic-expense",
      "execution_count": null,
      "outputs": [
        {
          "output_type": "execute_result",
          "data": {
            "text/plain": [
              "0.7724522298438801"
            ]
          },
          "metadata": {
            "tags": []
          },
          "execution_count": 18
        }
      ]
    },
    {
      "cell_type": "code",
      "metadata": {
        "id": "changing-writer"
      },
      "source": [
        "gbts = cl.GBTClassifier(maxIter=10, labelCol='TARGET',featuresCol = 'scaled_features')\n",
        "gbtModels = gbts.fit(trains)\n",
        "predictionss = gbtModels.transform(tests)"
      ],
      "id": "changing-writer",
      "execution_count": null,
      "outputs": []
    },
    {
      "cell_type": "code",
      "metadata": {
        "id": "thorough-following",
        "outputId": "8d207b7d-7c0f-4b4d-89a0-4615b962dabd"
      },
      "source": [
        "print(evaluators.evaluate(predictionss, {evaluators.metricName: \"areaUnderROC\"}))"
      ],
      "id": "thorough-following",
      "execution_count": null,
      "outputs": [
        {
          "output_type": "stream",
          "text": [
            "0.7488846197982426\n"
          ],
          "name": "stdout"
        }
      ]
    },
    {
      "cell_type": "code",
      "metadata": {
        "id": "interior-wildlife",
        "outputId": "a33315f0-c2f5-4556-8710-d9ff148b30e7"
      },
      "source": [
        "from pyspark.ml.tuning import ParamGridBuilder, CrossValidator\n",
        "paramGrids = (ParamGridBuilder()\n",
        "             .addGrid(gbts.maxDepth, [2, 4, 6])\n",
        "             .addGrid(gbts.maxBins, [20, 60])\n",
        "             .addGrid(gbts.maxIter, [10, 20])\n",
        "             .build())\n",
        "cvs = CrossValidator(estimator=gbts, estimatorParamMaps=paramGrids, evaluator=evaluators, numFolds=5)\n",
        "# Run cross validations.  This can take about 6 minutes since it is training over 20 trees!\n",
        "cvModels = cvs.fit(trains)\n",
        "predictionss = cvModels.transform(tests)\n",
        "evaluators.evaluate(predictionss)"
      ],
      "id": "interior-wildlife",
      "execution_count": null,
      "outputs": [
        {
          "output_type": "execute_result",
          "data": {
            "text/plain": [
              "0.7735806322333781"
            ]
          },
          "metadata": {
            "tags": []
          },
          "execution_count": 21
        }
      ]
    },
    {
      "cell_type": "code",
      "metadata": {
        "id": "educational-category",
        "outputId": "dc867b86-9a30-4cec-9055-4462c96c6d0f"
      },
      "source": [
        "from pyspark.mllib.evaluation import MulticlassMetrics\n",
        "\n",
        "preds_and_labels = predictionss.select(['prediction','TARGET']).withColumn('label', fn.col('TARGET').cast(types.FloatType())).orderBy('prediction')\n",
        "\n",
        "preds_and_labels = preds_and_labels.select(['prediction','label'])\n",
        "\n",
        "metrics = MulticlassMetrics(preds_and_labels.rdd.map(tuple))\n",
        "\n",
        "print(metrics.confusionMatrix().toArray())"
      ],
      "id": "educational-category",
      "execution_count": null,
      "outputs": [
        {
          "output_type": "stream",
          "text": [
            "[[8.6404e+04 2.0000e+01]\n",
            " [2.3240e+03 4.0000e+00]]\n"
          ],
          "name": "stdout"
        }
      ]
    },
    {
      "cell_type": "code",
      "metadata": {
        "id": "acute-worry",
        "outputId": "2d1ac2bb-2b22-40bd-d720-230f1645db78"
      },
      "source": [
        "print(metrics.confusionMatrix())\n",
        "print(metrics.precision(0.0))\n",
        "print(metrics.recall(0.0))"
      ],
      "id": "acute-worry",
      "execution_count": null,
      "outputs": [
        {
          "output_type": "stream",
          "text": [
            "DenseMatrix([[8.6404e+04, 2.0000e+01],\n",
            "             [2.3240e+03, 4.0000e+00]])\n",
            "0.9738075917410512\n",
            "0.9997685828010737\n"
          ],
          "name": "stdout"
        }
      ]
    }
  ]
}